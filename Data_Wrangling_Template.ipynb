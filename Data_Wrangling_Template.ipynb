{
 "cells": [
  {
   "cell_type": "code",
   "execution_count": null,
   "metadata": {},
   "outputs": [],
   "source": [
    "import pandas as pd\n",
    "import numpy as np\n",
    "import matplotlib.pyplot as plt\n",
    "import seaborn as sns\n",
    "from sklearn.model_selection import train_test_split\n",
    "from sklearn.preprocessing import StandardScaler, LabelEncoder\n",
    "from sklearn.ensemble import IsolationForest\n",
    "from sklearn.covariance import MinCovDet\n",
    "from sklearn.neighbors import LocalOutlierFactor"
   ]
  },
  {
   "cell_type": "markdown",
   "metadata": {},
   "source": [
    "# Data preprocessing"
   ]
  },
  {
   "cell_type": "code",
   "execution_count": null,
   "metadata": {},
   "outputs": [],
   "source": [
    "# Load your data (replace 'your_data.csv' with your actual data file)\n",
    "df = pd.read_csv('your_data.csv')"
   ]
  },
  {
   "cell_type": "code",
   "execution_count": null,
   "metadata": {},
   "outputs": [],
   "source": [
    "# Remove unnecessary columns\n",
    "columns_to_drop = ['column1', 'column2']\n",
    "df.drop(columns=columns_to_drop, inplace=True)"
   ]
  },
  {
   "cell_type": "code",
   "execution_count": null,
   "metadata": {},
   "outputs": [],
   "source": [
    "# Handle missing values (impute with mean, but choose an appropriate method)\n",
    "df.fillna(df.mean(), inplace=True)"
   ]
  },
  {
   "cell_type": "code",
   "execution_count": null,
   "metadata": {},
   "outputs": [],
   "source": [
    "# Create dummy variables for categorical features\n",
    "df = pd.get_dummies(df, columns=['categorical_column'])"
   ]
  },
  {
   "cell_type": "code",
   "execution_count": null,
   "metadata": {},
   "outputs": [],
   "source": [
    "# Normalize numerical features (use StandardScaler or Min-Max scaling)\n",
    "scaler = StandardScaler()\n",
    "df['numerical_column'] = scaler.fit_transform(df['numerical_column'].values.reshape(-1, 1))"
   ]
  },
  {
   "cell_type": "markdown",
   "metadata": {},
   "source": [
    "# Exploratory Data Analysis"
   ]
  },
  {
   "cell_type": "code",
   "execution_count": null,
   "metadata": {},
   "outputs": [],
   "source": [
    "# Summary statistics\n",
    "print(df.describe())\n",
    "\n",
    "# Correlation matrix and heatmap\n",
    "correlation_matrix = df.corr()\n",
    "plt.figure(figsize=(10, 8))\n",
    "sns.heatmap(correlation_matrix, annot=True, cmap='coolwarm', linewidths=0.5)\n",
    "plt.title('Correlation Matrix')\n",
    "plt.show()"
   ]
  },
  {
   "cell_type": "code",
   "execution_count": null,
   "metadata": {},
   "outputs": [],
   "source": [
    "# Scatter plot\n",
    "plt.scatter(df['numerical_column'], df['target_column'])\n",
    "plt.xlabel('Numerical Feature')\n",
    "plt.ylabel('Target Variable')\n",
    "plt.title('Scatter Plot')\n",
    "plt.show()"
   ]
  },
  {
   "cell_type": "code",
   "execution_count": null,
   "metadata": {},
   "outputs": [],
   "source": [
    "# Bar plot for categorical features\n",
    "plt.figure(figsize=(8, 6))\n",
    "df['categorical_column'].value_counts().plot(kind='bar')\n",
    "plt.xlabel('Categories')\n",
    "plt.ylabel('Count')\n",
    "plt.title('Categorical Feature Distribution')\n",
    "plt.show()"
   ]
  },
  {
   "cell_type": "code",
   "execution_count": null,
   "metadata": {},
   "outputs": [],
   "source": [
    "# Create a histogram with a density plot (KDE)\n",
    "sns.histplot(df, kde=True, color='purple', edgecolor='black')\n",
    "\n",
    "# Customize the plot\n",
    "plt.xlabel('Values')  # X-axis label\n",
    "plt.ylabel('Density')  # Y-axis label\n",
    "plt.title('Customized Histogram with Density Plot')  # Title\n",
    "\n",
    "# Show the plot\n",
    "plt.show()"
   ]
  },
  {
   "cell_type": "code",
   "execution_count": null,
   "metadata": {},
   "outputs": [],
   "source": [
    "# Create a box plot using Pandas\n",
    "boxplot = df.boxplot(column=['Col1', 'Col2', 'Col3'])\n",
    "\n",
    "# Customize the plot\n",
    "plt.xlabel('Columns')  # X-axis label\n",
    "plt.ylabel('Values')   # Y-axis label\n",
    "plt.title('Box Plot using Pandas')  # Title\n",
    "\n",
    "# Show the plot\n",
    "plt.show()"
   ]
  },
  {
   "cell_type": "markdown",
   "metadata": {},
   "source": [
    "## Outliers"
   ]
  },
  {
   "cell_type": "markdown",
   "metadata": {},
   "source": [
    "### IQR"
   ]
  },
  {
   "cell_type": "markdown",
   "metadata": {},
   "source": [
    "Identifies outliers based on the spread of data within the quartiles."
   ]
  },
  {
   "cell_type": "code",
   "execution_count": null,
   "metadata": {},
   "outputs": [],
   "source": [
    "# Outlier detection using IQR method\n",
    "Q1 = df['numerical_column'].quantile(0.25)\n",
    "Q3 = df['numerical_column'].quantile(0.75)\n",
    "IQR = Q3 - Q1\n",
    "lower_bound = Q1 - 1.5 * IQR\n",
    "upper_bound = Q3 + 1.5 * IQR\n",
    "\n",
    "outliers = df[(df['numerical_column'] < lower_bound) | (df['numerical_column'] > upper_bound)]\n",
    "\n",
    "# Visualize outliers (scatter plot)\n",
    "plt.scatter(df['numerical_column'], df['target_column'], label='Inliers', alpha=0.6)\n",
    "plt.scatter(outliers['numerical_column'], outliers['target_column'], color='red', label='Outliers')\n",
    "plt.xlabel('Numerical Feature')\n",
    "plt.ylabel('Target Variable')\n",
    "plt.title('Outlier Detection')\n",
    "plt.legend()\n",
    "plt.show()"
   ]
  },
  {
   "cell_type": "code",
   "execution_count": null,
   "metadata": {},
   "outputs": [],
   "source": [
    "# Remove outliers (optional)\n",
    "df_cleaned = df[~((df['numerical_column'] < lower_bound) | (df['numerical_column'] > upper_bound))]"
   ]
  },
  {
   "cell_type": "code",
   "execution_count": null,
   "metadata": {},
   "outputs": [],
   "source": [
    "# Split data into training and test sets\n",
    "X = df.drop('target_column', axis=1)\n",
    "y = df['target_column']\n",
    "X_train, X_test, y_train, y_test = train_test_split(X, y, test_size=0.2, random_state=42)"
   ]
  },
  {
   "cell_type": "markdown",
   "metadata": {},
   "source": [
    "### Isolation Forest"
   ]
  },
  {
   "cell_type": "markdown",
   "metadata": {},
   "source": [
    "Isolation Forest: An ensemble method that isolates outliers by randomly partitioning data points into trees and measuring their path lengths."
   ]
  },
  {
   "cell_type": "code",
   "execution_count": null,
   "metadata": {},
   "outputs": [],
   "source": [
    "# Generate data (replace with your own dataset)\n",
    "np.random.seed(42)\n",
    "X_inliers = 0.3 * np.random.randn(100, 2)\n",
    "X_inliers = np.r_[X_inliers + 2, X_inliers - 2]\n",
    "X_outliers = np.random.uniform(low=-4, high=4, size=(20, 2))\n",
    "X = np.r_[X_inliers, X_outliers]\n",
    "\n",
    "# Fit the model\n",
    "clf = IsolationForest(n_estimators=100, contamination=0.1)\n",
    "y_pred = clf.fit_predict(X)\n",
    "\n",
    "# Visualize results\n",
    "plt.scatter(X[:, 0], X[:, 1], c=y_pred, cmap='coolwarm')\n",
    "plt.title(\"Isolation Forest\")\n",
    "plt.show()"
   ]
  },
  {
   "cell_type": "markdown",
   "metadata": {},
   "source": [
    "### Minimum Covariance Determinant (MCD)"
   ]
  },
  {
   "cell_type": "markdown",
   "metadata": {},
   "source": [
    "Minimum Covariance Determinant (MCD): Estimates the covariance matrix of the data, identifying observations with low likelihood under the estimated distribution."
   ]
  },
  {
   "cell_type": "code",
   "execution_count": null,
   "metadata": {},
   "outputs": [],
   "source": [
    "# Fit the MCD model\n",
    "mcd = MinCovDet().fit(df)\n",
    "\n",
    "# Get the robust covariance matrix\n",
    "robust_cov_matrix = mcd.covariance_\n",
    "\n",
    "# Calculate ellipse parameters (eigenvalues and eigenvectors)\n",
    "eigenvalues, eigenvectors = np.linalg.eigh(robust_cov_matrix)\n",
    "\n",
    "# Plot ellipses\n",
    "plt.scatter(X[:, 0], X[:, 1], c='blue', label='Inliers')\n",
    "for i in range(len(X)):\n",
    "    ellipse = plt.matplotlib.patches.Ellipse(\n",
    "        xy=X[i],\n",
    "        width=2 * np.sqrt(eigenvalues[0]),\n",
    "        height=2 * np.sqrt(eigenvalues[1]),\n",
    "        angle=np.degrees(np.arctan2(*eigenvectors[:, 0][::-1])),\n",
    "        edgecolor='red',\n",
    "        fill=False,\n",
    "    )\n",
    "    plt.gca().add_patch(ellipse)\n",
    "\n",
    "plt.xlabel('Feature 1')\n",
    "plt.ylabel('Feature 2')\n",
    "plt.title('Robust Covariance Ellipses')\n",
    "plt.legend()\n",
    "plt.show()"
   ]
  },
  {
   "cell_type": "markdown",
   "metadata": {},
   "source": [
    "### Local Outlier Factor (LOF)"
   ]
  },
  {
   "cell_type": "markdown",
   "metadata": {},
   "source": [
    "Local Outlier Factor (LOF): Measures the local density deviation of a data point compared to its neighbors, identifying points with significantly lower density."
   ]
  },
  {
   "cell_type": "code",
   "execution_count": null,
   "metadata": {},
   "outputs": [],
   "source": [
    "# Fit the model\n",
    "lof = LocalOutlierFactor(n_neighbors=20, contamination=0.1)\n",
    "y_pred_lof = lof.fit_predict(X)\n",
    "\n",
    "# Visualize results\n",
    "plt.scatter(X[:, 0], X[:, 1], c=y_pred_lof, cmap='coolwarm')\n",
    "plt.title(\"Local Outlier Factor (LOF)\")\n",
    "plt.show()"
   ]
  }
 ],
 "metadata": {
  "kernelspec": {
   "display_name": "Python 3",
   "language": "python",
   "name": "python3"
  },
  "language_info": {
   "name": "python",
   "version": "3.10.9"
  }
 },
 "nbformat": 4,
 "nbformat_minor": 2
}
